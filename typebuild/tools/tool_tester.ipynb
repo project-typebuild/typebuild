{
 "cells": [
  {
   "cell_type": "code",
   "execution_count": 1,
   "metadata": {},
   "outputs": [],
   "source": [
    "from collections import namedtuple\n",
    "import sys\n",
    "sys.path.append('../')\n",
    "from task_graph import TaskGraph"
   ]
  },
  {
   "cell_type": "code",
   "execution_count": 2,
   "metadata": {},
   "outputs": [],
   "source": [
    "from llm_for_tables import LLMForTables\n",
    "import pandas as pd\n",
    "import os"
   ]
  },
  {
   "cell_type": "code",
   "execution_count": 19,
   "metadata": {},
   "outputs": [],
   "source": [
    "file = \"/home/vivek/.typebuild/users/vivek/data/youtube_QuickBooksOnlineecommerceshortcomings.parquet\"\n",
    "file = \"/home/vivek/.typebuild/users/vivek/data/youtube_QuickBooksOnlineforeCommercesellers.parquet\""
   ]
  },
  {
   "cell_type": "code",
   "execution_count": 20,
   "metadata": {},
   "outputs": [],
   "source": [
    "df = pd.read_parquet(file)"
   ]
  },
  {
   "cell_type": "code",
   "execution_count": 21,
   "metadata": {},
   "outputs": [
    {
     "data": {
      "text/plain": [
       "Index(['video_url', 'title', 'view_count', 'takendown', 'main_reason',\n",
       "       'subreason', 'like_count', 'full_description', 'channel',\n",
       "       'channel_link', 'tags', 'language', 'transcript', 'thumbnail',\n",
       "       'search_term', 'search_date', 'QBO_Advantages_Disadvantages_Summary'],\n",
       "      dtype='object')"
      ]
     },
     "execution_count": 21,
     "metadata": {},
     "output_type": "execute_result"
    }
   ],
   "source": [
    "df.columns"
   ]
  },
  {
   "cell_type": "code",
   "execution_count": 5,
   "metadata": {},
   "outputs": [],
   "source": [
    "df = df.drop(columns=[\"view_count_int_consolidated\"])"
   ]
  },
  {
   "cell_type": "code",
   "execution_count": 6,
   "metadata": {},
   "outputs": [],
   "source": [
    "df.to_parquet(file, index=False)"
   ]
  },
  {
   "cell_type": "code",
   "execution_count": 7,
   "metadata": {},
   "outputs": [],
   "source": [
    "system_instruction = \"Extract the number of views as an int\"\n",
    "input_column = \"view_count\"\n",
    "output_column = \"view_count_int_consolidated\"\n"
   ]
  },
  {
   "cell_type": "code",
   "execution_count": 8,
   "metadata": {},
   "outputs": [],
   "source": [
    "x = LLMForTables(\n",
    "    file_name=file, \n",
    "    system_instruction=system_instruction, \n",
    "    input_column=input_column, \n",
    "    output_column=output_column,\n",
    "    row_by_row=False,\n",
    "    )"
   ]
  },
  {
   "cell_type": "code",
   "execution_count": 9,
   "metadata": {},
   "outputs": [
    {
     "name": "stdout",
     "output_type": "stream",
     "text": [
      "Number of chunks: 1\n"
     ]
    },
    {
     "data": {
      "text/plain": [
       "{'content': 'LLM run successfully on /home/vivek/.typebuild/users/vivek/data/youtube_QuickBooksOnlineecommerceshortcomings.parquet.',\n",
       " 'file_name': '/home/vivek/.typebuild/users/vivek/data/youtube_QuickBooksOnlineecommerceshortcomings.parquet',\n",
       " 'output_column': 'view_count_int_consolidated',\n",
       " 'ask_llm': False,\n",
       " 'task_finished': True}"
      ]
     },
     "execution_count": 9,
     "metadata": {},
     "output_type": "execute_result"
    }
   ],
   "source": [
    "x.run()"
   ]
  },
  {
   "cell_type": "code",
   "execution_count": 10,
   "metadata": {},
   "outputs": [
    {
     "data": {
      "text/plain": [
       "0    11380\\n70\\n16043\\n8087\\n4145\n",
       "1                            None\n",
       "2                            None\n",
       "3                            None\n",
       "4                            None\n",
       "Name: view_count_int_consolidated, dtype: object"
      ]
     },
     "execution_count": 10,
     "metadata": {},
     "output_type": "execute_result"
    }
   ],
   "source": [
    "x.data.head()[\"view_count_int_consolidated\"]"
   ]
  },
  {
   "cell_type": "code",
   "execution_count": null,
   "metadata": {},
   "outputs": [],
   "source": []
  }
 ],
 "metadata": {
  "kernelspec": {
   "display_name": "typebuild",
   "language": "python",
   "name": "typebuild"
  },
  "language_info": {
   "codemirror_mode": {
    "name": "ipython",
    "version": 3
   },
   "file_extension": ".py",
   "mimetype": "text/x-python",
   "name": "python",
   "nbconvert_exporter": "python",
   "pygments_lexer": "ipython3",
   "version": "3.10.12"
  }
 },
 "nbformat": 4,
 "nbformat_minor": 4
}
