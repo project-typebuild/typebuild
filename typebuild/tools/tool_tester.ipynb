{
 "cells": [
  {
   "cell_type": "code",
   "execution_count": null,
   "metadata": {},
   "outputs": [],
   "source": [
    "from collections import namedtuple\n",
    "import sys\n",
    "sys.path.append('../')\n",
    "from task_graph import TaskGraph"
   ]
  },
  {
   "cell_type": "code",
   "execution_count": null,
   "metadata": {},
   "outputs": [],
   "source": [
    "task_graph = TaskGraph(\"Create haikus on all seasons\")"
   ]
  },
  {
   "cell_type": "code",
   "execution_count": null,
   "metadata": {},
   "outputs": [],
   "source": [
    "# Example Usage\n",
    "task_graph.add_task(\n",
    "    task_name='search', \n",
    "    agent_name='search_agent',\n",
    "    task_description='Write a haiku about the Fall season',\n",
    "    )\n",
    "\n",
    "task_graph.add_task(\n",
    "    task_name='Winter haiku', \n",
    "    agent_name='haiku_agent',\n",
    "    task_description='Write a haiku about winter',\n",
    "    )\n"
   ]
  },
  {
   "cell_type": "code",
   "execution_count": null,
   "metadata": {},
   "outputs": [],
   "source": [
    "task_graph.graph.nodes['Winter haiku']"
   ]
  },
  {
   "cell_type": "code",
   "execution_count": null,
   "metadata": {},
   "outputs": [],
   "source": []
  },
  {
   "cell_type": "code",
   "execution_count": null,
   "metadata": {},
   "outputs": [],
   "source": [
    "new_tasks = [\n",
    "    {\n",
    "        \"task_name\": \"Spring haiku\",\n",
    "        \"task_description\": \"Write a haiku about the Spring season.\",\n",
    "        \"agent_name\": \"haiku_agent\",\n",
    "        \"before_task\": \"Fall haiku\",\n",
    "        \"after_task\": None,\n",
    "        \"user_message\": \"I'm adding a task to create a haiku about the Spring season.\"\n",
    "    },\n",
    "    {\n",
    "        \"task_name\": \"Summer haiku\",\n",
    "        \"task_description\": \"Write a haiku about the Summer season.\",\n",
    "        \"agent_name\": \"haiku_agent\",\n",
    "        \"before_task\": \"Spring haiku\",\n",
    "        \"after_task\": None,\n",
    "        \"user_message\": \"I'm adding a task to create a haiku about the Summer season.\"\n",
    "    },\n",
    "    {\n",
    "        \"task_name\": \"Review haikus\",\n",
    "        \"task_description\": \"Review and refine all written haikus for quality and adherence to haiku structure.\",\n",
    "        \"agent_name\": \"haiku_agent\",\n",
    "        \"before_task\": None,\n",
    "        \"after_task\": \"Winter haiku\",\n",
    "        \"user_message\": \"I'm adding a task to review and refine all the haikus once they are written.\"\n",
    "    }\n",
    "]\n"
   ]
  },
  {
   "cell_type": "code",
   "execution_count": null,
   "metadata": {},
   "outputs": [],
   "source": [
    "task_graph.add_task(**new_tasks[1])"
   ]
  },
  {
   "cell_type": "code",
   "execution_count": null,
   "metadata": {},
   "outputs": [],
   "source": [
    "task_graph.graph.nodes['Summer haiku']"
   ]
  },
  {
   "cell_type": "code",
   "execution_count": null,
   "metadata": {},
   "outputs": [],
   "source": [
    "task_graph.add_dependency('Winter haiku', 'Fall haiku')\n",
    "task_graph.add_dependency('Get Data', 'Upload data')"
   ]
  },
  {
   "cell_type": "code",
   "execution_count": null,
   "metadata": {},
   "outputs": [],
   "source": [
    "print(task_graph.generate_markdown())"
   ]
  },
  {
   "cell_type": "code",
   "execution_count": null,
   "metadata": {},
   "outputs": [],
   "source": [
    "task_info = task_graph.graph.nodes['Fall haiku']"
   ]
  },
  {
   "cell_type": "code",
   "execution_count": null,
   "metadata": {},
   "outputs": [],
   "source": [
    "\n",
    "task_info['task'].task_description"
   ]
  },
  {
   "cell_type": "code",
   "execution_count": null,
   "metadata": {},
   "outputs": [],
   "source": [
    "import sys\n",
    "sys.path.append('../')\n",
    "from task import Task\n",
    "import yaml"
   ]
  },
  {
   "cell_type": "code",
   "execution_count": null,
   "metadata": {},
   "outputs": [],
   "source": [
    "x = Task(\n",
    "    task_name='orchestration',\n",
    "    agent_name='search_agent',\n",
    "    task_description=\"Test\",\n",
    "    )"
   ]
  },
  {
   "cell_type": "code",
   "execution_count": null,
   "metadata": {},
   "outputs": [],
   "source": [
    "x.tools"
   ]
  },
  {
   "cell_type": "code",
   "execution_count": null,
   "metadata": {},
   "outputs": [],
   "source": [
    "x.get_instance_vars()['tools']"
   ]
  },
  {
   "cell_type": "code",
   "execution_count": null,
   "metadata": {},
   "outputs": [],
   "source": []
  },
  {
   "cell_type": "code",
   "execution_count": null,
   "metadata": {},
   "outputs": [],
   "source": []
  },
  {
   "cell_type": "code",
   "execution_count": null,
   "metadata": {},
   "outputs": [],
   "source": [
    "path = \"../agent_definitions/search_agent.yml\"\n",
    "with open(path, 'r') as f:\n",
    "    instructions = yaml.load(f, Loader=yaml.FullLoader)\n",
    "# Parse the variables\n",
    "for key in instructions:\n",
    "    # Set these as attributes of x\n",
    "    setattr(x, key, instructions[key])"
   ]
  },
  {
   "cell_type": "code",
   "execution_count": null,
   "metadata": {},
   "outputs": [],
   "source": [
    "x.get_instance_vars()"
   ]
  },
  {
   "cell_type": "code",
   "execution_count": null,
   "metadata": {},
   "outputs": [],
   "source": [
    "x.get_system_instruction()"
   ]
  },
  {
   "cell_type": "code",
   "execution_count": null,
   "metadata": {},
   "outputs": [],
   "source": [
    "task_graph.add_task('Task1.1', sequence=2)"
   ]
  },
  {
   "cell_type": "code",
   "execution_count": null,
   "metadata": {},
   "outputs": [],
   "source": [
    "task_graph.add_dependency('Task1', 'Task1.1')"
   ]
  },
  {
   "cell_type": "code",
   "execution_count": null,
   "metadata": {},
   "outputs": [],
   "source": [
    "task_graph.update_task('Task1.1', completed=True)"
   ]
  },
  {
   "cell_type": "code",
   "execution_count": null,
   "metadata": {},
   "outputs": [],
   "source": [
    "out = task_graph.get_next_task('Task1.1')\n",
    "print(out)"
   ]
  },
  {
   "cell_type": "code",
   "execution_count": null,
   "metadata": {},
   "outputs": [],
   "source": [
    "import requests"
   ]
  },
  {
   "cell_type": "code",
   "execution_count": null,
   "metadata": {},
   "outputs": [],
   "source": [
    "import requests\n",
    "from bs4 import BeautifulSoup\n",
    "import pandas as pd"
   ]
  },
  {
   "cell_type": "code",
   "execution_count": null,
   "metadata": {},
   "outputs": [],
   "source": [
    "query = 'travis+coan'\n",
    "max_results = 1"
   ]
  },
  {
   "cell_type": "code",
   "execution_count": null,
   "metadata": {},
   "outputs": [],
   "source": [
    "api_url = f\"http://export.arxiv.org/api/query?search_query={query}&start=0&max_results={max_results}\"\n",
    "# Get the response\n",
    "response = requests.get(api_url)\n",
    "# Get the content\n",
    "content = response.content\n",
    "# Parse the content\n",
    "soup = BeautifulSoup(content, 'xml')\n",
    "\n",
    "url = \"http://localhost:11434/api/generate\"\n"
   ]
  },
  {
   "cell_type": "code",
   "execution_count": null,
   "metadata": {},
   "outputs": [],
   "source": [
    "mytext = \"\"\"1. Freewrite: Set a timer for 10-15 minutes and write whatever comes to mind without worrying about grammar, spelling, or punctuation. This exercise can help you generate ideas and get into the flow of writing.\n",
    "2. Read widely: Expose yourself to different genres, styles, and perspectives by reading books, articles, and blogs. This will expand your vocabulary, improve your style, and inspire new ideas.\n",
    "3. Experiment with form: Instead of sticking to traditional forms like essays or stories, try out different formats such as lists, dialogues, or poems. This can challenge you creatively and lead to unexpected results.\n",
    "4. Edit ruthlessly: After completing a draft, go through it several times to revise, cut unnecessary words, and tighten the plot. This will make your writing more concise, engaging, and impactful.\n",
    "5. Collaborate with others: Join writing groups or attend workshops to connect with other writers and learn from their feedback. This can provide valuable insights into your strengths and weaknesses, as well as new perspectives and ideas.\"\"\""
   ]
  },
  {
   "cell_type": "code",
   "execution_count": null,
   "metadata": {},
   "outputs": [],
   "source": [
    "results"
   ]
  },
  {
   "cell_type": "code",
   "execution_count": null,
   "metadata": {},
   "outputs": [],
   "source": [
    "import requests"
   ]
  },
  {
   "cell_type": "code",
   "execution_count": null,
   "metadata": {},
   "outputs": [],
   "source": [
    "res = requests.get('https://arxiv.org/pdf/2311.05661v1.pdf')"
   ]
  },
  {
   "cell_type": "code",
   "execution_count": null,
   "metadata": {},
   "outputs": [],
   "source": [
    "# View the pdf content in pdf viewer\n",
    "with open('test.pdf', 'wb') as f:\n",
    "    f.write(res.content)"
   ]
  },
  {
   "cell_type": "code",
   "execution_count": null,
   "metadata": {},
   "outputs": [],
   "source": [
    "with ('~/Downloads/test.pdf', 'wb') as f:\n",
    "    f.write(res.content)"
   ]
  },
  {
   "cell_type": "code",
   "execution_count": null,
   "metadata": {},
   "outputs": [],
   "source": [
    "# read the pdf and get the text\n",
    "from PyPDF2 import PdfReader\n",
    "\n",
    "reader = PdfReader('test.pdf', 'rb')\n",
    "\n",
    "number_of_pages = len(reader.pages)\n",
    "\n",
    "full_text = ''\n",
    "for page in reader.pages:\n",
    "    full_text +=   page.extract_text()\n"
   ]
  },
  {
   "cell_type": "code",
   "execution_count": null,
   "metadata": {},
   "outputs": [],
   "source": [
    "import re\n",
    "\n",
    "def remove_image_chars(text):\n",
    "    # The image characters are in the format /uniXXXX where XXXX is a hexidecimal number, e.g. /uniE0BB\n",
    "    # So, we need to define a regular expression pattern to match these sequences\n",
    "    # Define a regular expression pattern to match Unicode sequences\n",
    "    pattern = re.compile(r'/uni[0-9A-Fa-f]{6}')\n",
    "\n",
    "    # Use the sub() function to replace matches with an empty string\n",
    "    cleaned_text = re.sub(pattern, '', text)\n",
    "\n",
    "    return cleaned_text"
   ]
  },
  {
   "cell_type": "code",
   "execution_count": null,
   "metadata": {},
   "outputs": [],
   "source": [
    "print(remove_unicode_chars(full_text))"
   ]
  },
  {
   "cell_type": "code",
   "execution_count": 2,
   "metadata": {},
   "outputs": [],
   "source": [
    "import importlib"
   ]
  },
  {
   "cell_type": "code",
   "execution_count": 3,
   "metadata": {},
   "outputs": [],
   "source": [
    "tool_module = importlib.import_module(f'duckduckgo')"
   ]
  },
  {
   "cell_type": "code",
   "execution_count": 4,
   "metadata": {},
   "outputs": [
    {
     "data": {
      "text/plain": [
       "<module 'duckduckgo' from '/Users/ranu/repos/typebuild/typebuild/tools/duckduckgo.py'>"
      ]
     },
     "execution_count": 4,
     "metadata": {},
     "output_type": "execute_result"
    }
   ],
   "source": [
    "tool_module"
   ]
  },
  {
   "cell_type": "code",
   "execution_count": 5,
   "metadata": {},
   "outputs": [],
   "source": [
    "tool_function = getattr(tool_module, 'tool_main')"
   ]
  },
  {
   "cell_type": "code",
   "execution_count": 9,
   "metadata": {},
   "outputs": [
    {
     "data": {
      "text/plain": [
       "<function duckduckgo.tool_main(search_term, num_results=1, full_text=False)>"
      ]
     },
     "execution_count": 9,
     "metadata": {},
     "output_type": "execute_result"
    }
   ],
   "source": [
    "tool_function"
   ]
  },
  {
   "cell_type": "code",
   "execution_count": 14,
   "metadata": {},
   "outputs": [
    {
     "ename": "SyntaxError",
     "evalue": "invalid syntax (3043915680.py, line 1)",
     "output_type": "error",
     "traceback": [
      "\u001b[0;36m  Cell \u001b[0;32mIn[14], line 1\u001b[0;36m\u001b[0m\n\u001b[0;31m    <function duckduckgo.tool_main(search_term, num_results=1, full_text=False)>\u001b[0m\n\u001b[0m    ^\u001b[0m\n\u001b[0;31mSyntaxError\u001b[0m\u001b[0;31m:\u001b[0m invalid syntax\n"
     ]
    }
   ],
   "source": []
  },
  {
   "cell_type": "code",
   "execution_count": 10,
   "metadata": {},
   "outputs": [],
   "source": [
    "# get kwargs from tool_function\n",
    "import inspect\n",
    "argspec = inspect.getfullargspec(tool_function)"
   ]
  },
  {
   "cell_type": "code",
   "execution_count": 13,
   "metadata": {},
   "outputs": [
    {
     "data": {
      "text/plain": [
       "FullArgSpec(args=['search_term', 'num_results', 'full_text'], varargs=None, varkw=None, defaults=(1, False), kwonlyargs=[], kwonlydefaults=None, annotations={})"
      ]
     },
     "execution_count": 13,
     "metadata": {},
     "output_type": "execute_result"
    }
   ],
   "source": [
    "argspec"
   ]
  },
  {
   "cell_type": "code",
   "execution_count": 16,
   "metadata": {},
   "outputs": [
    {
     "name": "stdout",
     "output_type": "stream",
     "text": [
      "{'search_term': None, 'num_results': 1, 'full_text': False}\n"
     ]
    }
   ],
   "source": [
    "def check_for_auto_rerun(func):\n",
    "    # Get the signature of the function\n",
    "    sig = inspect.signature(func)\n",
    "\n",
    "    # Get the parameters from the signature\n",
    "    params = sig.parameters\n",
    "\n",
    "    # Get the arguments and their default values\n",
    "    args_and_defaults = {name: param.default if param.default is not param.empty else None for name, param in params.items()}\n",
    "\n",
    "    # Check if the function has an auto_rerun argument\n",
    "    return args_and_defaults.get('auto_rerun', False)\n",
    "# Usage:\n",
    "args_and_defaults = get_args_and_defaults(tool_function)\n",
    "print(args_and_defaults)"
   ]
  },
  {
   "cell_type": "code",
   "execution_count": null,
   "metadata": {},
   "outputs": [],
   "source": []
  }
 ],
 "metadata": {
  "kernelspec": {
   "display_name": "venv",
   "language": "python",
   "name": "python3"
  },
  "language_info": {
   "codemirror_mode": {
    "name": "ipython",
    "version": 3
   },
   "file_extension": ".py",
   "mimetype": "text/x-python",
   "name": "python",
   "nbconvert_exporter": "python",
   "pygments_lexer": "ipython3",
   "version": "3.11.6"
  }
 },
 "nbformat": 4,
 "nbformat_minor": 4
}
