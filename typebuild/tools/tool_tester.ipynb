{
 "cells": [
  {
   "cell_type": "code",
   "execution_count": 1,
   "metadata": {},
   "outputs": [],
   "source": [
    "from collections import namedtuple\n",
    "import sys\n",
    "sys.path.append('../')\n",
    "from task_graph import TaskGraph"
   ]
  },
  {
   "cell_type": "code",
   "execution_count": 2,
   "metadata": {},
   "outputs": [],
   "source": [
    "task_graph = TaskGraph(\"Create haikus on all seasons\")"
   ]
  },
  {
   "cell_type": "code",
   "execution_count": 3,
   "metadata": {},
   "outputs": [],
   "source": [
    "# Example Usage\n",
    "task_graph.add_task(\n",
    "    task_name='Fall haiku', \n",
    "    agent_name='haiku_agent',\n",
    "    task_description='Write a haiku about the Fall season',\n",
    "    )\n",
    "\n",
    "task_graph.add_task(\n",
    "    task_name='Winter haiku', \n",
    "    agent_name='haiku_agent',\n",
    "    task_description='Write a haiku about winter',\n",
    "    )\n",
    "task_graph.add_task(\n",
    "    task_name='Get Data', \n",
    "    agent_name='haiku_agent',\n",
    "    task_description='Write a haiku about the Fall season',\n",
    "    )\n",
    "\n",
    "task_graph.add_task(\n",
    "    task_name='Upload data', \n",
    "    agent_name='haiku_agent',\n",
    "    task_description='Write a haiku about winter',\n",
    "    )"
   ]
  },
  {
   "cell_type": "code",
   "execution_count": 4,
   "metadata": {},
   "outputs": [],
   "source": [
    "task_graph.add_dependency('Winter haiku', 'Fall haiku')\n",
    "task_graph.add_dependency('Get Data', 'Upload data')"
   ]
  },
  {
   "cell_type": "code",
   "execution_count": 5,
   "metadata": {},
   "outputs": [
    {
     "name": "stdout",
     "output_type": "stream",
     "text": [
      "- **Winter haiku**: \n",
      "  - **Fall haiku**: \n",
      "- **Get Data**: \n",
      "  - **Upload data**: \n",
      "\n"
     ]
    }
   ],
   "source": [
    "print(task_graph.generate_markdown())"
   ]
  },
  {
   "cell_type": "code",
   "execution_count": 9,
   "metadata": {},
   "outputs": [],
   "source": [
    "task_info = task_graph.graph.nodes['Fall haiku']"
   ]
  },
  {
   "cell_type": "code",
   "execution_count": 16,
   "metadata": {},
   "outputs": [
    {
     "data": {
      "text/plain": [
       "'Write a haiku about the Fall season'"
      ]
     },
     "execution_count": 16,
     "metadata": {},
     "output_type": "execute_result"
    }
   ],
   "source": [
    "task_info['task'].task_description"
   ]
  },
  {
   "cell_type": "code",
   "execution_count": null,
   "metadata": {},
   "outputs": [],
   "source": [
    "from task import Task"
   ]
  },
  {
   "cell_type": "code",
   "execution_count": null,
   "metadata": {},
   "outputs": [],
   "source": [
    "orchestration_task_desc = f\"\"\"\n",
    "You are helping the user complete the task: {task_graph.name}.  It has {task_graph.graph.number_of_nodes()}.\n",
    "\"\"\""
   ]
  },
  {
   "cell_type": "code",
   "execution_count": null,
   "metadata": {},
   "outputs": [],
   "source": [
    "x = Task(\n",
    "    task_name='orchestration',\n",
    "    agent_name='agent_manager',\n",
    "    task_description=orchestration_task_desc,\n",
    "    )"
   ]
  },
  {
   "cell_type": "code",
   "execution_count": null,
   "metadata": {},
   "outputs": [],
   "source": [
    "x.get_system_instruction()"
   ]
  },
  {
   "cell_type": "code",
   "execution_count": null,
   "metadata": {},
   "outputs": [],
   "source": [
    "task_graph.add_task('Task1.1', sequence=2)"
   ]
  },
  {
   "cell_type": "code",
   "execution_count": null,
   "metadata": {},
   "outputs": [],
   "source": [
    "task_graph.add_dependency('Task1', 'Task1.1')"
   ]
  },
  {
   "cell_type": "code",
   "execution_count": null,
   "metadata": {},
   "outputs": [],
   "source": [
    "task_graph.update_task('Task1.1', completed=True)"
   ]
  },
  {
   "cell_type": "code",
   "execution_count": null,
   "metadata": {},
   "outputs": [],
   "source": [
    "out = task_graph.get_next_task('Task1.1')\n",
    "print(out)"
   ]
  }
 ],
 "metadata": {
  "kernelspec": {
   "display_name": "typebuild",
   "language": "python",
   "name": "typebuild"
  },
  "language_info": {
   "codemirror_mode": {
    "name": "ipython",
    "version": 3
   },
   "file_extension": ".py",
   "mimetype": "text/x-python",
   "name": "python",
   "nbconvert_exporter": "python",
   "pygments_lexer": "ipython3",
   "version": "3.10.12"
  }
 },
 "nbformat": 4,
 "nbformat_minor": 4
}
