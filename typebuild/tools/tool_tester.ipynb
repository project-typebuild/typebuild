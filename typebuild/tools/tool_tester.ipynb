{
 "cells": [
  {
   "cell_type": "code",
   "execution_count": null,
   "metadata": {},
   "outputs": [],
   "source": [
    "from collections import namedtuple\n",
    "import sys\n",
    "sys.path.append('../')\n",
    "from task_graph import TaskGraph"
   ]
  },
  {
   "cell_type": "code",
   "execution_count": null,
   "metadata": {},
   "outputs": [],
   "source": [
    "task_graph = TaskGraph(\"Create haikus on all seasons\")"
   ]
  },
  {
   "cell_type": "code",
   "execution_count": null,
   "metadata": {},
   "outputs": [],
   "source": [
    "# Example Usage\n",
    "task_graph.add_task(\n",
    "    task_name='search', \n",
    "    agent_name='search_agent',\n",
    "    task_description='Write a haiku about the Fall season',\n",
    "    )\n",
    "\n",
    "task_graph.add_task(\n",
    "    task_name='Winter haiku', \n",
    "    agent_name='haiku_agent',\n",
    "    task_description='Write a haiku about winter',\n",
    "    )\n"
   ]
  },
  {
   "cell_type": "code",
   "execution_count": null,
   "metadata": {},
   "outputs": [],
   "source": [
    "task_graph.graph.nodes['Winter haiku']"
   ]
  },
  {
   "cell_type": "code",
   "execution_count": null,
   "metadata": {},
   "outputs": [],
   "source": []
  },
  {
   "cell_type": "code",
   "execution_count": null,
   "metadata": {},
   "outputs": [],
   "source": [
    "new_tasks = [\n",
    "    {\n",
    "        \"task_name\": \"Spring haiku\",\n",
    "        \"task_description\": \"Write a haiku about the Spring season.\",\n",
    "        \"agent_name\": \"haiku_agent\",\n",
    "        \"before_task\": \"Fall haiku\",\n",
    "        \"after_task\": None,\n",
    "        \"user_message\": \"I'm adding a task to create a haiku about the Spring season.\"\n",
    "    },\n",
    "    {\n",
    "        \"task_name\": \"Summer haiku\",\n",
    "        \"task_description\": \"Write a haiku about the Summer season.\",\n",
    "        \"agent_name\": \"haiku_agent\",\n",
    "        \"before_task\": \"Spring haiku\",\n",
    "        \"after_task\": None,\n",
    "        \"user_message\": \"I'm adding a task to create a haiku about the Summer season.\"\n",
    "    },\n",
    "    {\n",
    "        \"task_name\": \"Review haikus\",\n",
    "        \"task_description\": \"Review and refine all written haikus for quality and adherence to haiku structure.\",\n",
    "        \"agent_name\": \"haiku_agent\",\n",
    "        \"before_task\": None,\n",
    "        \"after_task\": \"Winter haiku\",\n",
    "        \"user_message\": \"I'm adding a task to review and refine all the haikus once they are written.\"\n",
    "    }\n",
    "]\n"
   ]
  },
  {
   "cell_type": "code",
   "execution_count": null,
   "metadata": {},
   "outputs": [],
   "source": [
    "task_graph.add_task(**new_tasks[1])"
   ]
  },
  {
   "cell_type": "code",
   "execution_count": null,
   "metadata": {},
   "outputs": [],
   "source": [
    "task_graph.graph.nodes['Summer haiku']"
   ]
  },
  {
   "cell_type": "code",
   "execution_count": null,
   "metadata": {},
   "outputs": [],
   "source": [
    "task_graph.add_dependency('Winter haiku', 'Fall haiku')\n",
    "task_graph.add_dependency('Get Data', 'Upload data')"
   ]
  },
  {
   "cell_type": "code",
   "execution_count": null,
   "metadata": {},
   "outputs": [],
   "source": [
    "print(task_graph.generate_markdown())"
   ]
  },
  {
   "cell_type": "code",
   "execution_count": null,
   "metadata": {},
   "outputs": [],
   "source": [
    "task_info = task_graph.graph.nodes['Fall haiku']"
   ]
  },
  {
   "cell_type": "code",
   "execution_count": null,
   "metadata": {},
   "outputs": [],
   "source": [
    "\n",
    "task_info['task'].task_description"
   ]
  },
  {
   "cell_type": "code",
   "execution_count": 1,
   "metadata": {},
   "outputs": [],
   "source": [
    "import sys\n",
    "sys.path.append('../')\n",
    "from task import Task\n",
    "import yaml"
   ]
  },
  {
   "cell_type": "code",
   "execution_count": 2,
   "metadata": {},
   "outputs": [],
   "source": [
    "x = Task(\n",
    "    task_name='orchestration',\n",
    "    agent_name='search_agent',\n",
    "    task_description=\"Test\",\n",
    "    )"
   ]
  },
  {
   "cell_type": "code",
   "execution_count": 3,
   "metadata": {},
   "outputs": [
    {
     "data": {
      "text/plain": [
       "['duckduckgo', 'youtube_transcript_search']"
      ]
     },
     "execution_count": 3,
     "metadata": {},
     "output_type": "execute_result"
    }
   ],
   "source": [
    "x.tools"
   ]
  },
  {
   "cell_type": "code",
   "execution_count": null,
   "metadata": {},
   "outputs": [],
   "source": [
    "x.get_instance_vars()['tools']"
   ]
  },
  {
   "cell_type": "code",
   "execution_count": null,
   "metadata": {},
   "outputs": [],
   "source": []
  },
  {
   "cell_type": "code",
   "execution_count": null,
   "metadata": {},
   "outputs": [],
   "source": []
  },
  {
   "cell_type": "code",
   "execution_count": null,
   "metadata": {},
   "outputs": [],
   "source": [
    "path = \"../agent_definitions/search_agent.yml\"\n",
    "with open(path, 'r') as f:\n",
    "    instructions = yaml.load(f, Loader=yaml.FullLoader)\n",
    "# Parse the variables\n",
    "for key in instructions:\n",
    "    # Set these as attributes of x\n",
    "    setattr(x, key, instructions[key])"
   ]
  },
  {
   "cell_type": "code",
   "execution_count": null,
   "metadata": {},
   "outputs": [],
   "source": [
    "x.get_instance_vars()"
   ]
  },
  {
   "cell_type": "code",
   "execution_count": null,
   "metadata": {},
   "outputs": [],
   "source": [
    "x.get_system_instruction()"
   ]
  },
  {
   "cell_type": "code",
   "execution_count": null,
   "metadata": {},
   "outputs": [],
   "source": [
    "task_graph.add_task('Task1.1', sequence=2)"
   ]
  },
  {
   "cell_type": "code",
   "execution_count": null,
   "metadata": {},
   "outputs": [],
   "source": [
    "task_graph.add_dependency('Task1', 'Task1.1')"
   ]
  },
  {
   "cell_type": "code",
   "execution_count": null,
   "metadata": {},
   "outputs": [],
   "source": [
    "task_graph.update_task('Task1.1', completed=True)"
   ]
  },
  {
   "cell_type": "code",
   "execution_count": null,
   "metadata": {},
   "outputs": [],
   "source": [
    "out = task_graph.get_next_task('Task1.1')\n",
    "print(out)"
   ]
  },
  {
   "cell_type": "code",
   "execution_count": null,
   "metadata": {},
   "outputs": [],
   "source": [
    "import json"
   ]
  },
  {
   "cell_type": "code",
   "execution_count": null,
   "metadata": {},
   "outputs": [],
   "source": [
    "s = '{\"a\": null}'"
   ]
  },
  {
   "cell_type": "code",
   "execution_count": null,
   "metadata": {},
   "outputs": [],
   "source": [
    "json.loads(s)"
   ]
  },
  {
   "cell_type": "code",
   "execution_count": null,
   "metadata": {},
   "outputs": [],
   "source": [
    "a = not False"
   ]
  },
  {
   "cell_type": "code",
   "execution_count": 1,
   "metadata": {},
   "outputs": [],
   "source": [
    "import requests"
   ]
  },
  {
   "cell_type": "code",
   "execution_count": 2,
   "metadata": {},
   "outputs": [],
   "source": [
    "import requests\n",
    "\n",
    "url = \"http://localhost:11434/api/generate\"\n"
   ]
  },
  {
   "cell_type": "code",
   "execution_count": 22,
   "metadata": {},
   "outputs": [],
   "source": [
    "mytext = \"\"\"1. Freewrite: Set a timer for 10-15 minutes and write whatever comes to mind without worrying about grammar, spelling, or punctuation. This exercise can help you generate ideas and get into the flow of writing.\n",
    "2. Read widely: Expose yourself to different genres, styles, and perspectives by reading books, articles, and blogs. This will expand your vocabulary, improve your style, and inspire new ideas.\n",
    "3. Experiment with form: Instead of sticking to traditional forms like essays or stories, try out different formats such as lists, dialogues, or poems. This can challenge you creatively and lead to unexpected results.\n",
    "4. Edit ruthlessly: After completing a draft, go through it several times to revise, cut unnecessary words, and tighten the plot. This will make your writing more concise, engaging, and impactful.\n",
    "5. Collaborate with others: Join writing groups or attend workshops to connect with other writers and learn from their feedback. This can provide valuable insights into your strengths and weaknesses, as well as new perspectives and ideas.\"\"\""
   ]
  },
  {
   "cell_type": "code",
   "execution_count": 55,
   "metadata": {},
   "outputs": [],
   "source": [
    "data = {\n",
    "    \"model\": \"zephyr\",\n",
    "    \"prompt\": f\"Summarize the following text: {mytext}\",\n",
    "    \"options\": {\"num_predict\": 10, \"seed\": 42},\n",
    "}\n",
    "\n",
    "response = requests.post(url, json=data)\n",
    "\n"
   ]
  },
  {
   "cell_type": "code",
   "execution_count": null,
   "metadata": {},
   "outputs": [],
   "source": [
    "23.5"
   ]
  },
  {
   "cell_type": "code",
   "execution_count": 49,
   "metadata": {},
   "outputs": [],
   "source": [
    "lines = response.text.split('\\n')"
   ]
  },
  {
   "cell_type": "code",
   "execution_count": 50,
   "metadata": {},
   "outputs": [],
   "source": [
    "import json"
   ]
  },
  {
   "cell_type": "code",
   "execution_count": 51,
   "metadata": {},
   "outputs": [],
   "source": [
    "fin_text = ''\n",
    "for line in lines:\n",
    "    if line != '':\n",
    "        fin_text += json.loads(line)['response']"
   ]
  },
  {
   "cell_type": "code",
   "execution_count": 52,
   "metadata": {},
   "outputs": [
    {
     "name": "stdout",
     "output_type": "stream",
     "text": [
      "The text suggests five tips for improving one's writing\n"
     ]
    }
   ],
   "source": [
    "print(fin_text)"
   ]
  },
  {
   "cell_type": "code",
   "execution_count": null,
   "metadata": {},
   "outputs": [],
   "source": []
  }
 ],
 "metadata": {
  "kernelspec": {
   "display_name": "typebuild",
   "language": "python",
   "name": "typebuild"
  },
  "language_info": {
   "codemirror_mode": {
    "name": "ipython",
    "version": 3
   },
   "file_extension": ".py",
   "mimetype": "text/x-python",
   "name": "python",
   "nbconvert_exporter": "python",
   "pygments_lexer": "ipython3",
   "version": "3.10.12"
  }
 },
 "nbformat": 4,
 "nbformat_minor": 4
}
