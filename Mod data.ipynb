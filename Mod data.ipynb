{
 "cells": [
  {
   "cell_type": "code",
   "execution_count": 1,
   "id": "60aa9146-0e04-4c19-894f-0b080b158f65",
   "metadata": {},
   "outputs": [],
   "source": [
    "import pandas as pd\n",
    "\n",
    "import numpy as np\n",
    "\n",
    "from glob import glob\n",
    "\n",
    "import os"
   ]
  },
  {
   "cell_type": "code",
   "execution_count": 21,
   "id": "803424ee-b3d2-4b3b-9c74-60cd1cac52f1",
   "metadata": {},
   "outputs": [],
   "source": [
    "file = 'end_of_fy_planning/data/youtube_year_end_financial_planning_for_small_businesses.parquet'"
   ]
  },
  {
   "cell_type": "code",
   "execution_count": 22,
   "id": "e9adacde-d873-4d08-ba25-273da026c8f4",
   "metadata": {},
   "outputs": [],
   "source": [
    "df = pd.read_parquet(file)"
   ]
  },
  {
   "cell_type": "code",
   "execution_count": 23,
   "id": "e3bc376b-d0ce-48c8-9be4-a2b1f85d0e38",
   "metadata": {},
   "outputs": [
    {
     "data": {
      "text/html": [
       "<div>\n",
       "<style scoped>\n",
       "    .dataframe tbody tr th:only-of-type {\n",
       "        vertical-align: middle;\n",
       "    }\n",
       "\n",
       "    .dataframe tbody tr th {\n",
       "        vertical-align: top;\n",
       "    }\n",
       "\n",
       "    .dataframe thead th {\n",
       "        text-align: right;\n",
       "    }\n",
       "</style>\n",
       "<table border=\"1\" class=\"dataframe\">\n",
       "  <thead>\n",
       "    <tr style=\"text-align: right;\">\n",
       "      <th></th>\n",
       "      <th>video_url</th>\n",
       "      <th>title</th>\n",
       "      <th>view_count</th>\n",
       "      <th>takendown</th>\n",
       "      <th>main_reason</th>\n",
       "      <th>subreason</th>\n",
       "      <th>like_count</th>\n",
       "      <th>full_description</th>\n",
       "      <th>channel</th>\n",
       "      <th>channel_link</th>\n",
       "      <th>tags</th>\n",
       "      <th>language</th>\n",
       "      <th>transcript</th>\n",
       "      <th>thumbnail</th>\n",
       "      <th>search_term</th>\n",
       "      <th>search_date</th>\n",
       "    </tr>\n",
       "  </thead>\n",
       "  <tbody>\n",
       "    <tr>\n",
       "      <th>0</th>\n",
       "      <td>https://www.youtube.com/watch?v=VkgHCiwtaHE</td>\n",
       "      <td>Year-End Checklist for Small Business Owners |...</td>\n",
       "      <td>11,691 views</td>\n",
       "      <td>False</td>\n",
       "      <td>NaN</td>\n",
       "      <td>NaN</td>\n",
       "      <td>NaN</td>\n",
       "      <td></td>\n",
       "      <td>GoDaddy</td>\n",
       "      <td>/@GoDaddy</td>\n",
       "      <td>[#GoDaddy, #TheJourney, #SmallBusiness]</td>\n",
       "      <td>en</td>\n",
       "      <td>we're going to give you your year-end checkli...</td>\n",
       "      <td>https://img.youtube.com/vi/VkgHCiwtaHE/hqdefau...</td>\n",
       "      <td>year end financial planning for small businesses</td>\n",
       "      <td>2023-09-19</td>\n",
       "    </tr>\n",
       "    <tr>\n",
       "      <th>1</th>\n",
       "      <td>https://www.youtube.com/watch?v=Wzwpou8d7v4</td>\n",
       "      <td>Small Business Basics: Financial Management</td>\n",
       "      <td>44,266 views</td>\n",
       "      <td>False</td>\n",
       "      <td>NaN</td>\n",
       "      <td>NaN</td>\n",
       "      <td>NaN</td>\n",
       "      <td></td>\n",
       "      <td>Business Link</td>\n",
       "      <td>/@BusinessLinkAB</td>\n",
       "      <td>[Small Business Basics]</td>\n",
       "      <td>en</td>\n",
       "      <td>Just like you need air to breathe, your compa...</td>\n",
       "      <td>https://img.youtube.com/vi/Wzwpou8d7v4/hqdefau...</td>\n",
       "      <td>year end financial planning for small businesses</td>\n",
       "      <td>2023-09-19</td>\n",
       "    </tr>\n",
       "  </tbody>\n",
       "</table>\n",
       "</div>"
      ],
      "text/plain": [
       "                                     video_url  \\\n",
       "0  https://www.youtube.com/watch?v=VkgHCiwtaHE   \n",
       "1  https://www.youtube.com/watch?v=Wzwpou8d7v4   \n",
       "\n",
       "                                               title    view_count  takendown  \\\n",
       "0  Year-End Checklist for Small Business Owners |...  11,691 views      False   \n",
       "1        Small Business Basics: Financial Management  44,266 views      False   \n",
       "\n",
       "   main_reason  subreason  like_count full_description        channel  \\\n",
       "0          NaN        NaN         NaN                         GoDaddy   \n",
       "1          NaN        NaN         NaN                   Business Link   \n",
       "\n",
       "       channel_link                                     tags language  \\\n",
       "0         /@GoDaddy  [#GoDaddy, #TheJourney, #SmallBusiness]       en   \n",
       "1  /@BusinessLinkAB                  [Small Business Basics]       en   \n",
       "\n",
       "                                          transcript  \\\n",
       "0   we're going to give you your year-end checkli...   \n",
       "1   Just like you need air to breathe, your compa...   \n",
       "\n",
       "                                           thumbnail  \\\n",
       "0  https://img.youtube.com/vi/VkgHCiwtaHE/hqdefau...   \n",
       "1  https://img.youtube.com/vi/Wzwpou8d7v4/hqdefau...   \n",
       "\n",
       "                                        search_term search_date  \n",
       "0  year end financial planning for small businesses  2023-09-19  \n",
       "1  year end financial planning for small businesses  2023-09-19  "
      ]
     },
     "execution_count": 23,
     "metadata": {},
     "output_type": "execute_result"
    }
   ],
   "source": [
    "df"
   ]
  },
  {
   "cell_type": "code",
   "execution_count": 2,
   "id": "6b59c6a0-2f33-4597-a69a-7a226adf9510",
   "metadata": {},
   "outputs": [],
   "source": [
    "data_models = glob(\"/home/vivek/.typebuild/vivek/**/data_model.parquet\")"
   ]
  },
  {
   "cell_type": "code",
   "execution_count": 14,
   "id": "39d08337-a526-4db7-869d-f4c5c63f6385",
   "metadata": {},
   "outputs": [
    {
     "data": {
      "text/plain": [
       "'/home/vivek/.typebuild/vivek/task_management/data_model.parquet'"
      ]
     },
     "execution_count": 14,
     "metadata": {},
     "output_type": "execute_result"
    }
   ],
   "source": [
    "file = data_models[3]\n",
    "\n",
    "file"
   ]
  },
  {
   "cell_type": "code",
   "execution_count": 5,
   "id": "a0214bf1-b0ca-494a-8d70-8a18c34e1a82",
   "metadata": {},
   "outputs": [],
   "source": [
    "df = pd.read_parquet(file)"
   ]
  },
  {
   "cell_type": "code",
   "execution_count": 9,
   "id": "ecb7a7ee-b68a-4602-a478-c56d853a8344",
   "metadata": {},
   "outputs": [],
   "source": [
    "for file in data_models:\n",
    "\n",
    "    df = pd.read_parquet(file)\n",
    "    df.file_name = df.file_name.str.replace('users/vivek/', '/home/vivek/.typebuild/vivek/')\n",
    "    df.to_parquet(file, index=False)"
   ]
  },
  {
   "cell_type": "code",
   "execution_count": null,
   "id": "3688a3ac-e92d-4619-9838-08f15b5e9594",
   "metadata": {},
   "outputs": [],
   "source": []
  },
  {
   "cell_type": "code",
   "execution_count": null,
   "id": "1008fc30-9af8-48e3-bf8a-ef6c665fdee3",
   "metadata": {},
   "outputs": [],
   "source": []
  },
  {
   "cell_type": "code",
   "execution_count": 32,
   "id": "ecdfba51-dd79-462a-a6cf-5a8bf2b03fb9",
   "metadata": {},
   "outputs": [],
   "source": [
    "df = pd.read_parquet('sales_order_voc/data/Sales Order VOC.parquet')"
   ]
  },
  {
   "cell_type": "code",
   "execution_count": 35,
   "id": "c0cb040e-dde0-40b8-b56c-916aef4b7579",
   "metadata": {},
   "outputs": [
    {
     "data": {
      "text/plain": [
       "Index(['realm_id', 'prs_verbatim_-_topic_sentiment_label', 'verbatim',\n",
       "       'recorded_date_(+00:00_gmt)', 'primary_theme', 'secondary_themes',\n",
       "       'tertiary_themes', 'feature', 'llm_sales_order_summary',\n",
       "       'llm_what_was_user_doing'],\n",
       "      dtype='object')"
      ]
     },
     "execution_count": 35,
     "metadata": {},
     "output_type": "execute_result"
    }
   ],
   "source": [
    "df.columns"
   ]
  },
  {
   "cell_type": "code",
   "execution_count": 34,
   "id": "6a035795-c54d-41cb-bcfe-79e33dd1f969",
   "metadata": {},
   "outputs": [
    {
     "data": {
      "text/plain": [
       "0      - The user is frustrated because Sales Orders ...\n",
       "1      The user is requesting the ability to view the...\n",
       "2      - User wants to be able to add a Packer/Picker...\n",
       "3      The user was trying to automate the data entry...\n",
       "4          - User was unable to find or access the Sales\n",
       "                             ...                        \n",
       "718    - User wants the Statements feature to be fixe...\n",
       "719    - Difficulty updating pricing in the product c...\n",
       "720    - User wants to create sales orders in QBO\\n- ...\n",
       "721    - User needs to create sales orders in QBO\\n- ...\n",
       "722    - User was unable to show a sales order as con...\n",
       "Name: llm_what_was_user_doing, Length: 723, dtype: object"
      ]
     },
     "execution_count": 34,
     "metadata": {},
     "output_type": "execute_result"
    }
   ],
   "source": [
    "df.llm_what_was_user_doing"
   ]
  },
  {
   "cell_type": "code",
   "execution_count": null,
   "id": "98dc3cde-ceac-45ff-8856-935f8fa1d252",
   "metadata": {},
   "outputs": [],
   "source": []
  },
  {
   "cell_type": "code",
   "execution_count": null,
   "id": "fdd2480d-955e-4432-87d7-2e97b776c2e0",
   "metadata": {},
   "outputs": [],
   "source": []
  },
  {
   "cell_type": "code",
   "execution_count": 24,
   "id": "8a13dde4-581c-49cd-8f95-92bf578486c3",
   "metadata": {},
   "outputs": [],
   "source": [
    "df.to_parquet('sales_order_voc/data/Sales Order VOC.parquet', index=False)"
   ]
  },
  {
   "cell_type": "code",
   "execution_count": 29,
   "id": "55d3ddd2-197e-461b-bee3-ea674f93377d",
   "metadata": {},
   "outputs": [],
   "source": [
    "df.to_parquet('sales_order_voc/data_model.parquet', index=False)"
   ]
  },
  {
   "cell_type": "code",
   "execution_count": null,
   "id": "92076215-970a-4a6d-909f-4319f3a29571",
   "metadata": {},
   "outputs": [],
   "source": []
  }
 ],
 "metadata": {
  "kernelspec": {
   "display_name": "databasics",
   "language": "python",
   "name": "databasics"
  },
  "language_info": {
   "codemirror_mode": {
    "name": "ipython",
    "version": 3
   },
   "file_extension": ".py",
   "mimetype": "text/x-python",
   "name": "python",
   "nbconvert_exporter": "python",
   "pygments_lexer": "ipython3",
   "version": "3.10.12"
  }
 },
 "nbformat": 4,
 "nbformat_minor": 5
}
